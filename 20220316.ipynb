{
  "nbformat": 4,
  "nbformat_minor": 0,
  "metadata": {
    "colab": {
      "name": "20220316.ipynb",
      "provenance": [],
      "authorship_tag": "ABX9TyP1lZrCIywZ6iw+3OkRVaDA",
      "include_colab_link": true
    },
    "kernelspec": {
      "name": "python3",
      "display_name": "Python 3"
    },
    "language_info": {
      "name": "python"
    }
  },
  "cells": [
    {
      "cell_type": "markdown",
      "metadata": {
        "id": "view-in-github",
        "colab_type": "text"
      },
      "source": [
        "<a href=\"https://colab.research.google.com/github/JiaPark01/AEP2022Spring/blob/main/20220316.ipynb\" target=\"_parent\"><img src=\"https://colab.research.google.com/assets/colab-badge.svg\" alt=\"Open In Colab\"/></a>"
      ]
    },
    {
      "cell_type": "markdown",
      "source": [
        "# 03/07\n",
        "\n",
        "data processing - text, sound, image\n",
        "\n",
        "AI model = function\n",
        "\n",
        "TTS = text to speech\n",
        "STT = speech to text / automatic speech recognition"
      ],
      "metadata": {
        "id": "tmwZEjvkpqDt"
      }
    },
    {
      "cell_type": "markdown",
      "source": [
        "# 03/08\n",
        "\n",
        "1. 변수\n",
        "2. 문법\n",
        "\n",
        "  2-1 조건 if\n",
        "\n",
        "  2-2 반복 for, while\n",
        "3. 함수\n",
        "4. 패키지 (=library)\n",
        "\n",
        "Numpy - numbers\n",
        "\n",
        "Pandas - spreadsheet / SQL\n",
        "\n",
        "Matplotlib - good visualisation, plotting\n",
        "\n",
        "Seaborn - good visualisation\n",
        "\n",
        "Scikit-learn - machine learning\n",
        "\n",
        "Requests - http\n",
        "\n",
        "Urllib3 - url (along with requests, used for web crawling?\n",
        "\n",
        "NLTK - 텍스트 처리 잘 배우면 취업 도움 잘 됨. 거의 필수\n",
        "\n",
        "Pillow - image\n",
        "\n",
        "Pytest -\n",
        "\n",
        "Librosa - sound\n",
        "\n",
        "\n",
        "Natural lang - words(meaning, content), grammar\n",
        "\n",
        "Programming lang - variables(values -> numbers, strings), syntax(조건문, 반복문)"
      ],
      "metadata": {
        "id": "YugNW-nioKqL"
      }
    },
    {
      "cell_type": "markdown",
      "source": [
        "# 03/16"
      ],
      "metadata": {
        "id": "iwfDQGnWwvCg"
      }
    },
    {
      "cell_type": "code",
      "source": [
        "import numpy as np\n",
        "import matplotlib.pyplot as plt\n",
        "\n",
        "x = np.random.randn(5)     # 5개의 랜덤 숫자, 평균 0\n",
        "plt.hist(x)     # x를 가지고 히스토그램 생성"
      ],
      "metadata": {
        "colab": {
          "base_uri": "https://localhost:8080/",
          "height": 356
        },
        "id": "8lTKSpIPpxem",
        "outputId": "1dfaae37-08e0-4d9f-d2e5-29a2b002c072"
      },
      "execution_count": 3,
      "outputs": [
        {
          "output_type": "execute_result",
          "data": {
            "text/plain": [
              "(array([1., 1., 0., 1., 0., 0., 0., 0., 0., 2.]),\n",
              " array([-1.31736157, -1.11102988, -0.9046982 , -0.69836651, -0.49203482,\n",
              "        -0.28570313, -0.07937145,  0.12696024,  0.33329193,  0.53962362,\n",
              "         0.7459553 ]),\n",
              " <a list of 10 Patch objects>)"
            ]
          },
          "metadata": {},
          "execution_count": 3
        },
        {
          "output_type": "display_data",
          "data": {
            "text/plain": [
              "<Figure size 432x288 with 1 Axes>"
            ],
            "image/png": "[encoded data removed]"
          },
          "metadata": {
            "needs_background": "light"
          }
        }
      ]
    },
    {
      "cell_type": "markdown",
      "source": [
        "## Create nd arrays\n",
        "\n",
        "matrix라고 생각하면 됨\n",
        "\n",
        "array: not list. Lists cannot be calculated\n",
        "\n",
        "아래 코드들의 결과 타입은 다 numpy.ndarray"
      ],
      "metadata": {
        "id": "vG5GXzh8qqj9"
      }
    },
    {
      "cell_type": "code",
      "source": [
        "# array\n",
        "\n",
        "x = np.array([1, 2, 3])\n",
        "print(type(x))                # numpy.ndarray에서 ndarray는 n-dimensional array\n",
        "print(x.shape)                # 튜플에 값이 하나이므로 1D"
      ],
      "metadata": {
        "colab": {
          "base_uri": "https://localhost:8080/"
        },
        "id": "Q-gF5cL4qPoL",
        "outputId": "c10e8970-83c8-4b8e-b4dd-905577bc7b16"
      },
      "execution_count": 4,
      "outputs": [
        {
          "output_type": "stream",
          "name": "stdout",
          "text": [
            "<class 'numpy.ndarray'>\n",
            "(3,)\n"
          ]
        }
      ]
    },
    {
      "cell_type": "code",
      "source": [
        "# range\n",
        "\n",
        "x = np.arange(0, 10, 2)       # 2는 increment. 0부터 9까지 2씩 증가\n",
        "print(x)\n",
        "print(x.shape)"
      ],
      "metadata": {
        "id": "uMMpNj4qq3PT"
      },
      "execution_count": null,
      "outputs": []
    },
    {
      "cell_type": "code",
      "source": [
        "# linear space\n",
        "\n",
        "x = np.linspace(0, 10, 6)     # 0부터 10까지 6개로 나눔\n",
        "print(x)\n",
        "print(x.shape)"
      ],
      "metadata": {
        "id": "N3vEaALhrCEr"
      },
      "execution_count": null,
      "outputs": []
    },
    {
      "cell_type": "code",
      "source": [
        "# 2D array\n",
        "\n",
        "x = np.array([[1, 2, 3], [4, 5, 6]])  # 세 개의 값으로 이루어진 array가 두 개\n",
        "print(x)\n",
        "print(x.shape)                        # (2, 3)으로 값이 둘"
      ],
      "metadata": {
        "id": "HWjRpeTzrZW1"
      },
      "execution_count": null,
      "outputs": []
    },
    {
      "cell_type": "code",
      "source": [
        "# 3D array\n",
        "\n",
        "x = np.array([[[1, 2, 3], [4, 5, 6]], [[7, 8, 9], [10, 11, 12]]]) # 값이 3*2*2개\n",
        "print(x)\n",
        "print(x.shape)                        # (2, 3, 3)"
      ],
      "metadata": {
        "id": "MSx891ldsvQH"
      },
      "execution_count": null,
      "outputs": []
    },
    {
      "cell_type": "code",
      "source": [
        "# 3D array with ones or zeros\n",
        "\n",
        "x = np.ones([2, 2, 3])                # 1로 채워짐\n",
        "print(x)\n",
        "print(x.shape)\n",
        "\n",
        "# np.zeros -> 0. 0. 0. 식으로 동일"
      ],
      "metadata": {
        "id": "zdfJgc3ktLyr"
      },
      "execution_count": null,
      "outputs": []
    },
    {
      "cell_type": "code",
      "source": [
        "x.reshape(3, 2, 2)                    # 차원 변경해서 만듦. 순서는 그대로"
      ],
      "metadata": {
        "id": "Ui3Vk1intdHk"
      },
      "execution_count": null,
      "outputs": []
    },
    {
      "cell_type": "markdown",
      "source": [
        "## Create random numbers"
      ],
      "metadata": {
        "id": "5TWkR3_jtgwA"
      }
    },
    {
      "cell_type": "code",
      "source": [
        "np.random.normal(0, 1, [2,3,4])       # (mean, standard diviation, shape) SD - how far from mean\n",
        "plt.hist(x, bins=10)                  # bins - 막대기 개수"
      ],
      "metadata": {
        "id": "1iizzH6itkVw"
      },
      "execution_count": null,
      "outputs": []
    },
    {
      "cell_type": "markdown",
      "source": [
        "## Generating a sine curve"
      ],
      "metadata": {
        "id": "7eosyl-9t49m"
      }
    },
    {
      "cell_type": "code",
      "source": [
        "# 1단계 - 사용할 공간 생성\n",
        "plt.figure()\n",
        "\n",
        "# 2단계 - 값 생성해 틀 잡기\n",
        "theta1 = np.linspace(0, 2*np.pi, 100) # 0~ 2파이 100개의 레디언 각도\n",
        "s1 = np.sin(theta1)                   # theta1 값에 sin 적용한 array\n",
        "theta2 = np.linspace(0, 2*np.pi, 100) + np.pi/2   # 각도에 pi/2를 더함. same as cos\n",
        "s2 = np.sin(theta2)\n",
        "\n",
        "# 3단계 - 그래프 찍기\n",
        "plt.subplot(2, 1, 1)                  # (row, column, panel num to plot) 위 아래로 2개 만들고 첫번째 파넬\n",
        "plt.plot(theta1, s1, '.')             # (x, y, 모양 (default:'-', others: '.', ',', 1~4까지 숫자))\n",
        "plt.subplot(2, 1, 2)                  # 두번째 파넬"
      ],
      "metadata": {
        "id": "lMCrdyHTt8GT"
      },
      "execution_count": null,
      "outputs": []
    },
    {
      "cell_type": "markdown",
      "source": [
        "### Correlation coefficient"
      ],
      "metadata": {
        "id": "TMkIP031vD_9"
      }
    },
    {
      "cell_type": "markdown",
      "source": [
        "correlation - 비례, 반비례. 10명의 학생의 영어 수학 점수 분포를 하나의 그래프로 찍었을 때 10개의 점들이 어떤 모양인지\n",
        "\n",
        "correlation coefficient = r = the strength of the linear relationship between two variables in a correlation analysis\n",
        "\n",
        "high correlation: clearly shows correlation\n",
        "\n",
        "-1<=r<=1 일 때 r이 +면 정비례, -면 반비례. |r|이 1에 가까울 수록 high cor"
      ],
      "metadata": {
        "id": "t3deZRLbvQVy"
      }
    },
    {
      "cell_type": "code",
      "source": [
        "np.corrcoef(s1, s2)                   # (x, y) 두 그래프의 x축은 짝지어져있음. 이 두 값으로 cor coef 구함"
      ],
      "metadata": {
        "id": "Z5AYuRexvDsI"
      },
      "execution_count": null,
      "outputs": []
    },
    {
      "cell_type": "markdown",
      "source": [
        "array([[1.00000000e+00, 2.41915449e-17], [2.41915449e-17,1.00000000e+00]])\n",
        "\n",
        "에서 맨 처음과 마지막은 1이 항상 나오므로 볼 필요 없음.\n",
        "\n",
        "가운데 두 값은 같은 값이므로 하나만 보면 됨.\n",
        "\n",
        "2.41915449e-17는 사실상 0에 수렴하므로 매우 높은 correlation을 보여준다는 뜻"
      ],
      "metadata": {
        "id": "WF2ydZ9-v1Yw"
      }
    }
  ]
}